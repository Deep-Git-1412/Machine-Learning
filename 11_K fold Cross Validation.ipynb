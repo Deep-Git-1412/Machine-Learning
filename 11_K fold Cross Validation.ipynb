{
 "cells": [
  {
   "cell_type": "markdown",
   "id": "4a739546",
   "metadata": {},
   "source": [
    "# K fold cross validation"
   ]
  },
  {
   "cell_type": "markdown",
   "id": "e29f55c9",
   "metadata": {},
   "source": [
    "K-Fold Cross Validation is a technique to assess the performance of a model by splitting the data into multiple folds,\n",
    "training the model on some folds, and evaluating it on the remaining fold.\n",
    "\n",
    "The average scores of different models (Logistic Regression, Random Forest, SVM) are calculated using K-Fold Cross Validation\n",
    "to get a more reliable estimation of their performance."
   ]
  },
  {
   "cell_type": "code",
   "execution_count": 19,
   "id": "ea44b6d8",
   "metadata": {},
   "outputs": [],
   "source": [
    "#Import the necessary libraries\n",
    "\n",
    "from sklearn.linear_model import LogisticRegression\n",
    "from sklearn.svm import SVC\n",
    "from sklearn.ensemble import RandomForestClassifier\n",
    "from sklearn.datasets import load_digits\n",
    "import pandas as pd\n",
    "import numpy as np"
   ]
  },
  {
   "cell_type": "code",
   "execution_count": 20,
   "id": "99bf4ff0",
   "metadata": {},
   "outputs": [],
   "source": [
    "#Load the digits dataset\n",
    "\n",
    "digits=load_digits()"
   ]
  },
  {
   "cell_type": "code",
   "execution_count": 21,
   "id": "3c474466",
   "metadata": {},
   "outputs": [],
   "source": [
    "#Create instances for the three different models\n",
    "\n",
    "model_svc=SVC()\n",
    "model_logistic=LogisticRegression()\n",
    "model_RF=RandomForestClassifier()"
   ]
  },
  {
   "cell_type": "code",
   "execution_count": 22,
   "id": "dd5a27cc",
   "metadata": {},
   "outputs": [
    {
     "data": {
      "text/plain": [
       "['DESCR', 'data', 'feature_names', 'frame', 'images', 'target', 'target_names']"
      ]
     },
     "execution_count": 22,
     "metadata": {},
     "output_type": "execute_result"
    }
   ],
   "source": [
    "dir(digits)"
   ]
  },
  {
   "cell_type": "code",
   "execution_count": 23,
   "id": "f714d3f5",
   "metadata": {},
   "outputs": [],
   "source": [
    "#Define a function to calculate the score of a model\n",
    "\n",
    "def get_score(model,x_train,x_test,y_train,y_test):\n",
    "    model.fit(x_train,y_train)\n",
    "    return model.score(x_test,y_test)"
   ]
  },
  {
   "cell_type": "code",
   "execution_count": 24,
   "id": "d48945bd",
   "metadata": {},
   "outputs": [],
   "source": [
    "#Perform Stratified K-Fold Cross Validation\n",
    "\n",
    "from sklearn.model_selection import StratifiedKFold"
   ]
  },
  {
   "cell_type": "code",
   "execution_count": 25,
   "id": "46166193",
   "metadata": {},
   "outputs": [],
   "source": [
    "Kf=StratifiedKFold(n_splits=3)"
   ]
  },
  {
   "cell_type": "code",
   "execution_count": 26,
   "id": "7e7b4bf6",
   "metadata": {},
   "outputs": [],
   "source": [
    "score_logistics=[]\n",
    "score_rf=[]\n",
    "score_svm=[]"
   ]
  },
  {
   "cell_type": "code",
   "execution_count": 27,
   "id": "6c6d71a9",
   "metadata": {},
   "outputs": [
    {
     "name": "stderr",
     "output_type": "stream",
     "text": [
      "C:\\Users\\Lenovo\\AppData\\Local\\Programs\\Python\\Python311\\Lib\\site-packages\\sklearn\\linear_model\\_logistic.py:458: ConvergenceWarning: lbfgs failed to converge (status=1):\n",
      "STOP: TOTAL NO. of ITERATIONS REACHED LIMIT.\n",
      "\n",
      "Increase the number of iterations (max_iter) or scale the data as shown in:\n",
      "    https://scikit-learn.org/stable/modules/preprocessing.html\n",
      "Please also refer to the documentation for alternative solver options:\n",
      "    https://scikit-learn.org/stable/modules/linear_model.html#logistic-regression\n",
      "  n_iter_i = _check_optimize_result(\n",
      "C:\\Users\\Lenovo\\AppData\\Local\\Programs\\Python\\Python311\\Lib\\site-packages\\sklearn\\linear_model\\_logistic.py:458: ConvergenceWarning: lbfgs failed to converge (status=1):\n",
      "STOP: TOTAL NO. of ITERATIONS REACHED LIMIT.\n",
      "\n",
      "Increase the number of iterations (max_iter) or scale the data as shown in:\n",
      "    https://scikit-learn.org/stable/modules/preprocessing.html\n",
      "Please also refer to the documentation for alternative solver options:\n",
      "    https://scikit-learn.org/stable/modules/linear_model.html#logistic-regression\n",
      "  n_iter_i = _check_optimize_result(\n",
      "C:\\Users\\Lenovo\\AppData\\Local\\Programs\\Python\\Python311\\Lib\\site-packages\\sklearn\\linear_model\\_logistic.py:458: ConvergenceWarning: lbfgs failed to converge (status=1):\n",
      "STOP: TOTAL NO. of ITERATIONS REACHED LIMIT.\n",
      "\n",
      "Increase the number of iterations (max_iter) or scale the data as shown in:\n",
      "    https://scikit-learn.org/stable/modules/preprocessing.html\n",
      "Please also refer to the documentation for alternative solver options:\n",
      "    https://scikit-learn.org/stable/modules/linear_model.html#logistic-regression\n",
      "  n_iter_i = _check_optimize_result(\n"
     ]
    }
   ],
   "source": [
    "#For train-test-split\n",
    "for train_index,test_index in Kf.split(digits.data,digits.target):\n",
    "    x_train,x_test,y_train,y_test=digits.data[train_index],digits.data[test_index],digits.target[train_index],digits.target[test_index]\n",
    "    score_logistics.append((get_score(model_logistic,x_train,x_test,y_train,y_test)))\n",
    "    score_rf.append((get_score(model_RF,x_train,x_test,y_train,y_test)))\n",
    "    score_svm.append((get_score(model_svc,x_train,x_test,y_train,y_test)))"
   ]
  },
  {
   "cell_type": "code",
   "execution_count": 28,
   "id": "c1583229",
   "metadata": {},
   "outputs": [
    {
     "name": "stdout",
     "output_type": "stream",
     "text": [
      "[0.9215358931552587, 0.9415692821368948, 0.9165275459098498]\n",
      "[0.9398998330550918, 0.9549248747913188, 0.9198664440734557]\n",
      "[0.9649415692821369, 0.9799666110183639, 0.9649415692821369]\n"
     ]
    }
   ],
   "source": [
    "#calculating score for each model\n",
    "print(score_logistics)\n",
    "print(score_rf)\n",
    "print(score_svm)"
   ]
  },
  {
   "cell_type": "code",
   "execution_count": 29,
   "id": "de73a745",
   "metadata": {},
   "outputs": [],
   "source": [
    "#Function for calulating avg score of each model\n",
    "def avg(list):\n",
    "    avg=sum(list)/len(list)\n",
    "    return avg"
   ]
  },
  {
   "cell_type": "code",
   "execution_count": 30,
   "id": "5a39967b",
   "metadata": {},
   "outputs": [
    {
     "name": "stdout",
     "output_type": "stream",
     "text": [
      "Logistic : 0.9265442404006677\n",
      "RF       : 0.9382303839732887\n",
      "SVM      : 0.9699499165275459\n"
     ]
    }
   ],
   "source": [
    "print(\"Logistic :\",avg(score_logistics))\n",
    "print(\"RF       :\",avg(score_rf))\n",
    "print(\"SVM      :\",avg(score_svm))"
   ]
  },
  {
   "cell_type": "markdown",
   "id": "b51e7c2e",
   "metadata": {},
   "source": [
    "# Using API"
   ]
  },
  {
   "cell_type": "code",
   "execution_count": 31,
   "id": "e8d17018",
   "metadata": {},
   "outputs": [],
   "source": [
    "from sklearn.model_selection import cross_val_score"
   ]
  },
  {
   "cell_type": "code",
   "execution_count": 32,
   "id": "97f08f97",
   "metadata": {},
   "outputs": [],
   "source": [
    "score_l2=[]\n",
    "score_rf2=[]\n",
    "score_svm2=[]"
   ]
  },
  {
   "cell_type": "code",
   "execution_count": 33,
   "id": "1bae04b9",
   "metadata": {},
   "outputs": [
    {
     "name": "stderr",
     "output_type": "stream",
     "text": [
      "C:\\Users\\Lenovo\\AppData\\Local\\Programs\\Python\\Python311\\Lib\\site-packages\\sklearn\\linear_model\\_logistic.py:458: ConvergenceWarning: lbfgs failed to converge (status=1):\n",
      "STOP: TOTAL NO. of ITERATIONS REACHED LIMIT.\n",
      "\n",
      "Increase the number of iterations (max_iter) or scale the data as shown in:\n",
      "    https://scikit-learn.org/stable/modules/preprocessing.html\n",
      "Please also refer to the documentation for alternative solver options:\n",
      "    https://scikit-learn.org/stable/modules/linear_model.html#logistic-regression\n",
      "  n_iter_i = _check_optimize_result(\n",
      "C:\\Users\\Lenovo\\AppData\\Local\\Programs\\Python\\Python311\\Lib\\site-packages\\sklearn\\linear_model\\_logistic.py:458: ConvergenceWarning: lbfgs failed to converge (status=1):\n",
      "STOP: TOTAL NO. of ITERATIONS REACHED LIMIT.\n",
      "\n",
      "Increase the number of iterations (max_iter) or scale the data as shown in:\n",
      "    https://scikit-learn.org/stable/modules/preprocessing.html\n",
      "Please also refer to the documentation for alternative solver options:\n",
      "    https://scikit-learn.org/stable/modules/linear_model.html#logistic-regression\n",
      "  n_iter_i = _check_optimize_result(\n",
      "C:\\Users\\Lenovo\\AppData\\Local\\Programs\\Python\\Python311\\Lib\\site-packages\\sklearn\\linear_model\\_logistic.py:458: ConvergenceWarning: lbfgs failed to converge (status=1):\n",
      "STOP: TOTAL NO. of ITERATIONS REACHED LIMIT.\n",
      "\n",
      "Increase the number of iterations (max_iter) or scale the data as shown in:\n",
      "    https://scikit-learn.org/stable/modules/preprocessing.html\n",
      "Please also refer to the documentation for alternative solver options:\n",
      "    https://scikit-learn.org/stable/modules/linear_model.html#logistic-regression\n",
      "  n_iter_i = _check_optimize_result(\n"
     ]
    }
   ],
   "source": [
    "score_l2.append((cross_val_score(model_logistic,digits.data,digits.target,cv=3)))\n",
    "score_rf2.append((cross_val_score(model_RF,digits.data,digits.target,cv=3)))\n",
    "score_svm2.append((cross_val_score(model_svc,digits.data,digits.target,cv=10)))"
   ]
  },
  {
   "cell_type": "code",
   "execution_count": 34,
   "id": "07f0e262",
   "metadata": {},
   "outputs": [
    {
     "name": "stdout",
     "output_type": "stream",
     "text": [
      "[array([0.92153589, 0.94156928, 0.91652755])]\n",
      "[array([0.93322204, 0.96160267, 0.93489149])]\n",
      "[array([0.94444444, 0.98888889, 0.92777778, 0.96666667, 0.98333333,\n",
      "       0.98888889, 0.98888889, 0.99441341, 0.96089385, 0.95530726])]\n"
     ]
    }
   ],
   "source": [
    "print(score_l2)\n",
    "print(score_rf2)\n",
    "print(score_svm2)"
   ]
  },
  {
   "cell_type": "code",
   "execution_count": 35,
   "id": "c8e7dd35",
   "metadata": {},
   "outputs": [
    {
     "name": "stdout",
     "output_type": "stream",
     "text": [
      "0.9265442404006677\n",
      "0.9432387312186977\n",
      "0.9699503414028554\n"
     ]
    }
   ],
   "source": [
    "print(np.average(score_l2))\n",
    "print(np.average(score_rf2))\n",
    "print(np.average(score_svm2))"
   ]
  },
  {
   "cell_type": "markdown",
   "id": "110f7f55",
   "metadata": {},
   "source": [
    "# K-Fold Cross Vaidation On Iris Data Set\n"
   ]
  },
  {
   "cell_type": "code",
   "execution_count": 36,
   "id": "83326800",
   "metadata": {},
   "outputs": [],
   "source": [
    "from sklearn.datasets import load_iris"
   ]
  },
  {
   "cell_type": "code",
   "execution_count": 37,
   "id": "b999e78a",
   "metadata": {},
   "outputs": [],
   "source": [
    "iris=load_iris()"
   ]
  },
  {
   "cell_type": "code",
   "execution_count": 38,
   "id": "164e076b",
   "metadata": {},
   "outputs": [],
   "source": [
    "from sklearn.linear_model import LogisticRegression\n",
    "from sklearn.ensemble import RandomForestClassifier\n",
    "from sklearn.svm import SVC\n",
    "from sklearn import tree"
   ]
  },
  {
   "cell_type": "code",
   "execution_count": 39,
   "id": "dda726a8",
   "metadata": {},
   "outputs": [],
   "source": [
    "logistic=LogisticRegression()\n",
    "Random_forest=RandomForestClassifier()\n",
    "svm=SVC()\n",
    "decision_tree=tree.DecisionTreeClassifier()"
   ]
  },
  {
   "cell_type": "code",
   "execution_count": 40,
   "id": "4a433b5e",
   "metadata": {},
   "outputs": [],
   "source": [
    "from sklearn.model_selection import cross_val_score"
   ]
  },
  {
   "cell_type": "code",
   "execution_count": 41,
   "id": "30a036ab",
   "metadata": {},
   "outputs": [],
   "source": [
    "logistic_score=[]\n",
    "Random_forest_score=[]\n",
    "svm_score=[]\n",
    "decision_tree_score=[]"
   ]
  },
  {
   "cell_type": "code",
   "execution_count": 42,
   "id": "615cef2c",
   "metadata": {},
   "outputs": [
    {
     "name": "stderr",
     "output_type": "stream",
     "text": [
      "C:\\Users\\Lenovo\\AppData\\Local\\Programs\\Python\\Python311\\Lib\\site-packages\\sklearn\\linear_model\\_logistic.py:458: ConvergenceWarning: lbfgs failed to converge (status=1):\n",
      "STOP: TOTAL NO. of ITERATIONS REACHED LIMIT.\n",
      "\n",
      "Increase the number of iterations (max_iter) or scale the data as shown in:\n",
      "    https://scikit-learn.org/stable/modules/preprocessing.html\n",
      "Please also refer to the documentation for alternative solver options:\n",
      "    https://scikit-learn.org/stable/modules/linear_model.html#logistic-regression\n",
      "  n_iter_i = _check_optimize_result(\n"
     ]
    }
   ],
   "source": [
    "logistic_score.append(cross_val_score(logistic,iris.data,iris.target,cv=3))\n",
    "Random_forest_score.append(cross_val_score(Random_forest,iris.data,iris.target,cv=3))\n",
    "svm_score.append(cross_val_score(svm,iris.data,iris.target,cv=3))\n",
    "decision_tree_score.append(cross_val_score(decision_tree,iris.data,iris.target,cv=3))"
   ]
  },
  {
   "cell_type": "code",
   "execution_count": 43,
   "id": "1153d296",
   "metadata": {},
   "outputs": [
    {
     "name": "stdout",
     "output_type": "stream",
     "text": [
      "Logistic_Score     : [array([0.98, 0.96, 0.98])]\n",
      "Random_forest_score: [array([0.98, 0.94, 0.98])]\n",
      "svm_score          : [array([0.96, 0.98, 0.94])]\n",
      "decision_tree_score: [array([0.98, 0.94, 0.98])]\n"
     ]
    }
   ],
   "source": [
    "print(\"Logistic_Score     :\",logistic_score)\n",
    "print(\"Random_forest_score:\",Random_forest_score)\n",
    "print(\"svm_score          :\",svm_score)\n",
    "print(\"decision_tree_score:\",decision_tree_score)"
   ]
  },
  {
   "cell_type": "code",
   "execution_count": 44,
   "id": "681f314b",
   "metadata": {},
   "outputs": [
    {
     "name": "stdout",
     "output_type": "stream",
     "text": [
      "Avg Logistic Score 0.9733333333333333\n",
      "Avg Random_forest_score 0.9666666666666667\n",
      "Avg svm_score 0.96\n",
      "Avg decision_tree_score 0.9666666666666667\n"
     ]
    }
   ],
   "source": [
    "print(\"Avg Logistic Score\",np.average(logistic_score))\n",
    "print(\"Avg Random_forest_score\",np.average(Random_forest_score))\n",
    "print(\"Avg svm_score\",np.average(svm_score))\n",
    "print(\"Avg decision_tree_score\",np.average(decision_tree_score))"
   ]
  }
 ],
 "metadata": {
  "kernelspec": {
   "display_name": "Python 3 (ipykernel)",
   "language": "python",
   "name": "python3"
  },
  "language_info": {
   "codemirror_mode": {
    "name": "ipython",
    "version": 3
   },
   "file_extension": ".py",
   "mimetype": "text/x-python",
   "name": "python",
   "nbconvert_exporter": "python",
   "pygments_lexer": "ipython3",
   "version": "3.11.1"
  }
 },
 "nbformat": 4,
 "nbformat_minor": 5
}
